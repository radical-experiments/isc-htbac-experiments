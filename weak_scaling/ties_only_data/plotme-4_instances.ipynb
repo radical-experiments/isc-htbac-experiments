{
 "cells": [
  {
   "cell_type": "code",
   "execution_count": 1,
   "metadata": {},
   "outputs": [
    {
     "name": "stdout",
     "output_type": "stream",
     "text": [
      "Help on module radical.pilot.states in radical.pilot:\n",
      "\n",
      "NAME\n",
      "    radical.pilot.states\n",
      "\n",
      "FILE\n",
      "    /Users/JumanaDakka/environments/venv/lib/python2.7/site-packages/radical/pilot/states.py\n",
      "\n",
      "DATA\n",
      "    AGENT_EXECUTING = 'AGENT_EXECUTING'\n",
      "    AGENT_EXECUTING_PENDING = 'AGENT_EXECUTING_PENDING'\n",
      "    AGENT_SCHEDULING = 'AGENT_SCHEDULING'\n",
      "    AGENT_SCHEDULING_PENDING = 'AGENT_SCHEDULING_PENDING'\n",
      "    AGENT_STAGING_INPUT = 'AGENT_STAGING_INPUT'\n",
      "    AGENT_STAGING_INPUT_PENDING = 'AGENT_STAGING_INPUT_PENDING'\n",
      "    AGENT_STAGING_OUTPUT = 'AGENT_STAGING_OUTPUT'\n",
      "    AGENT_STAGING_OUTPUT_PENDING = 'AGENT_STAGING_OUTPUT_PENDING'\n",
      "    CANCELED = 'CANCELED'\n",
      "    DONE = 'DONE'\n",
      "    FAILED = 'FAILED'\n",
      "    FINAL = ['DONE', 'FAILED', 'CANCELED']\n",
      "    INITIAL = ['NEW']\n",
      "    NEW = 'NEW'\n",
      "    PMGR_ACTIVE = 'PMGR_ACTIVE'\n",
      "    PMGR_ACTIVE_PENDING = 'PMGR_ACTIVE_PENDING'\n",
      "    PMGR_LAUNCHING = 'PMGR_LAUNCHING'\n",
      "    PMGR_LAUNCHING_PENDING = 'PMGR_LAUNCHING_PENDING'\n",
      "    UMGR_SCHEDULING = 'UMGR_SCHEDULING'\n",
      "    UMGR_SCHEDULING_PENDING = 'UMGR_SCHEDULING_PENDING'\n",
      "    UMGR_STAGING_INPUT = 'UMGR_STAGING_INPUT'\n",
      "    UMGR_STAGING_INPUT_PENDING = 'UMGR_STAGING_INPUT_PENDING'\n",
      "    UMGR_STAGING_OUTPUT = 'UMGR_STAGING_OUTPUT'\n",
      "    UMGR_STAGING_OUTPUT_PENDING = 'UMGR_STAGING_OUTPUT_PENDING'\n",
      "    __copyright__ = 'Copyright 2013-2014, http://radical.rutgers.edu'\n",
      "    __license__ = 'MIT'\n",
      "    s = 'UMGR_SCHEDULING_PENDING'\n",
      "    v = 1\n",
      "\n",
      "\n"
     ]
    },
    {
     "name": "stderr",
     "output_type": "stream",
     "text": [
      "/Users/JumanaDakka/environments/venv/lib/python2.7/site-packages/radical/utils/atfork/stdlib_fixer.py:63: UserWarning: logging module already imported before fixup.\n",
      "  warnings.warn('logging module already imported before fixup.')\n"
     ]
    }
   ],
   "source": [
    "import pandas as pd\n",
    "import matplotlib.pyplot as plt\n",
    "import matplotlib as mpl\n",
    "import os\n",
    "from __future__ import unicode_literals\n",
    "from IPython.core.display import display, HTML\n",
    "import glob\n",
    "from radical.entk import Profiler\n",
    "import radical.analytics as ra\n",
    "import radical.utils as ru\n",
    "import radical.pilot as rp\n",
    "\n",
    "\n",
    "pd.set_option('expand_frame_repr', False)\n",
    "pd.set_option('display.max_rows', 50)\n",
    "\n",
    "%matplotlib inline\n",
    "help(rp.states)\n"
   ]
  },
  {
   "cell_type": "code",
   "execution_count": 2,
   "metadata": {},
   "outputs": [],
   "source": [
    "# Generate task uids\n",
    "\n",
    "def get_task_uids(num_pipelines):\n",
    "    \n",
    "    num_tasks = 260\n",
    "    task_uids = []\n",
    "    for t in range(num_tasks):\n",
    "        task_uids.append('radical.entk.task.%04d'%t)\n",
    "\n",
    "    return task_uids"
   ]
  },
  {
   "cell_type": "code",
   "execution_count": 3,
   "metadata": {},
   "outputs": [],
   "source": [
    "\n",
    "# Get information from all the entk profiles\n",
    "\n",
    "def get_entk_info(pipelines):\n",
    "    \n",
    "    p = Profiler(src = './4_instances')\n",
    "    \n",
    "    task_uids = get_task_uids(pipelines)\n",
    "    \n",
    "    entk_dur = p.duration(task_uids, states=['SCHEDULING','DONE'])\n",
    "    \n",
    "    # Time taken in appmanager to rreq function call\n",
    "    entk_core_1 = p.duration('radical.entk.appmanager.0000', events=['create amgr obj', 'init rreq submission'])\n",
    "    \n",
    "    # Time taken to tear down appmanager\n",
    "    entk_core_2 = p.duration('radical.entk.appmanager.0000', events=['start termination', 'termination done'])\n",
    "    \n",
    "    # Time taken to create resource manager obj\n",
    "    entk_core_3 = p.duration('radical.entk.resource_manager.0000', events = ['create rmgr obj', 'rmgr obj created'])\n",
    "    \n",
    "    # Time taken to create and submit resource reservation\n",
    "    entk_core_4 = p.duration('radical.entk.resource_manager.0000', events = ['creating rreq', 'rreq submitted'])\n",
    "    \n",
    "    # Time taken to deallocate resource reservation\n",
    "    entk_core_5 = p.duration('radical.entk.resource_manager.0000', events = ['canceling resource allocation', 'resource allocation cancelled'])\n",
    "    \n",
    "    \n",
    "    #entk_dur = entk_core_1 (entk setup time) + entk_core_4 (time to create and launch pilot) + entk_core_5 (time to cancel pilot) + p.duration('radical.entk.appmanager.0000', events=['starting synchronizer thread','termination done'])\n",
    "    \n",
    "    entk_dur = entk_core_1 + entk_core_4 + entk_core_5 + p.duration('radical.entk.appmanager.0000', events=['starting synchronizer thread','termination done'])\n",
    "    \n",
    "    entk_core_dur = entk_core_1 + entk_core_2 + entk_core_3 \n",
    "    \n",
    "    #entk_total_dur = entk_dur_1 + entk_dur_2 + entk_core_dur\n",
    "    \n",
    "    return entk_dur"
   ]
  },
  {
   "cell_type": "code",
   "execution_count": 8,
   "metadata": {},
   "outputs": [],
   "source": [
    "# Get information from all the rp profile files and json file\n",
    "# returns 0,0 if no rp files are found\n",
    "\n",
    "def get_rp_info(pipeline):\n",
    "\n",
    "    rp_folder = glob.glob('./4_instances/rp.*'.format(pipeline))\n",
    "    src = rp_folder[0]\n",
    "    session = ra.Session(stype='radical.pilot', src=src)\n",
    "    units = session.filter(etype='unit', inplace=False)\n",
    "    pilots = session.filter(etype='pilot', inplace=False)\n",
    "    exec_dur = units.duration([rp.AGENT_EXECUTING, rp.AGENT_STAGING_OUTPUT_PENDING])\n",
    "    rp_dur = pilots.duration([rp.PMGR_ACTIVE, rp.DONE])\n",
    "    task_exec_dur = []\n",
    "    get_units = session.get(etype='unit')\n",
    "    print len(get_units)\n",
    "    \n",
    "    #assert len(get_units) == pipeline*4\n",
    "\n",
    "    sorted_units = sorted(units.list('uid'))\n",
    "    # print sorted_units\n",
    "\n",
    "    \n",
    "    \n",
    "    '''\n",
    "    for x in range(0, pipeline*8, pipeline):\n",
    "    #   print x\n",
    "    #   print x + pipeline\n",
    "    #   print sorted_units[x:x+pipeline]\n",
    "        session = ra.Session(stype='radical.pilot', src=src)\n",
    "        subset_units = session.filter(uid=sorted_units[x:x+pipeline])\n",
    "        exec_dur = subset_units.duration([rp.AGENT_EXECUTING, rp.DONE])\n",
    "        task_exec_dur.append(exec_dur)\n",
    "        \n",
    "    '''\n",
    "    return rp_dur, exec_dur\n"
   ]
  },
  {
   "cell_type": "code",
   "execution_count": 9,
   "metadata": {
    "scrolled": false
   },
   "outputs": [
    {
     "name": "stdout",
     "output_type": "stream",
     "text": [
      "1064\n",
      "0\n",
      "10471.4325998\n"
     ]
    },
    {
     "data": {
      "text/html": [
       "<div>\n",
       "<style scoped>\n",
       "    .dataframe tbody tr th:only-of-type {\n",
       "        vertical-align: middle;\n",
       "    }\n",
       "\n",
       "    .dataframe tbody tr th {\n",
       "        vertical-align: top;\n",
       "    }\n",
       "\n",
       "    .dataframe thead th {\n",
       "        text-align: right;\n",
       "    }\n",
       "</style>\n",
       "<table border=\"1\" class=\"dataframe\">\n",
       "  <thead>\n",
       "    <tr style=\"text-align: right;\">\n",
       "      <th></th>\n",
       "      <th>EnTK overhead</th>\n",
       "      <th>RP overhead</th>\n",
       "      <th>Execution duration</th>\n",
       "    </tr>\n",
       "  </thead>\n",
       "  <tbody>\n",
       "    <tr>\n",
       "      <th>1</th>\n",
       "      <td>10626.1415</td>\n",
       "      <td>-10471.4326</td>\n",
       "      <td>10471.4326</td>\n",
       "    </tr>\n",
       "  </tbody>\n",
       "</table>\n",
       "</div>"
      ],
      "text/plain": [
       "   EnTK overhead  RP overhead  Execution duration\n",
       "1     10626.1415  -10471.4326          10471.4326"
      ]
     },
     "execution_count": 9,
     "metadata": {},
     "output_type": "execute_result"
    }
   ],
   "source": [
    "df = pd.DataFrame(columns=['EnTK overhead', 'RP overhead', 'Execution duration'])\n",
    "#df_stages = pd.DataFrame(columns=['Stage 1 (Instance 1)', 'Stage 1 (Instance 2)', 'Stage 2 (Instance 1)', 'Stage 2 (Instance 2)', \n",
    "                                  #'Stage 3 (Instance 1)', 'Stage 3 (Instance 2)','Stage 4 (Instance 1)', 'Stage 4 (Instance 1)'], ) \n",
    "pipelines_list = [1]\n",
    "\n",
    "for pipelines in pipelines_list:\n",
    "    entk_dur = get_entk_info(pipelines)\n",
    "    rp_dur, exec_dur = get_rp_info(pipelines)\n",
    "    \n",
    "    print rp_dur\n",
    "    print exec_dur\n",
    "    df.loc[pipelines] = [entk_dur - rp_dur, rp_dur - exec_dur, exec_dur]\n",
    "    #df_stages.loc[pipelines] = task_exec_dur\n",
    "df   \n",
    "#df_stages"
   ]
  },
  {
   "cell_type": "code",
   "execution_count": 55,
   "metadata": {},
   "outputs": [],
   "source": [
    "%matplotlib inline"
   ]
  },
  {
   "cell_type": "code",
   "execution_count": 43,
   "metadata": {},
   "outputs": [
    {
     "data": {
      "text/plain": [
       "u'\\nax = df.plot(kind=\\'bar\\', title=\\'Time taken by EnTK and RP to execute a workflow consisting of \\n X Pipelines, 7 Stages per Pipeline and 1 Task per Stage on NCSA.BW (Task executable = \"sleep 0\", number of trials per data point = 1)\\')\\nax.set_xlabel(\\'Number of Pipelines\\')\\nax.set_ylabel(\\'Time (seconds)\\')\\n\\n\\nfig = plt.gcf()\\nfig.set_size_inches(18.5, 10.5)\\nfig.savefig(\\'null_worload_devel.pdf\\', dpi=100)\\n'"
      ]
     },
     "execution_count": 43,
     "metadata": {},
     "output_type": "execute_result"
    }
   ],
   "source": [
    "'''\n",
    "ax = df.plot(kind='bar', title='Time taken by EnTK and RP to execute a workflow consisting of \\n X Pipelines, 7 Stages per Pipeline and 1 Task per Stage on NCSA.BW (Task executable = \"sleep 0\", number of trials per data point = 1)')\n",
    "ax.set_xlabel('Number of Pipelines')\n",
    "ax.set_ylabel('Time (seconds)')\n",
    "\n",
    "\n",
    "fig = plt.gcf()\n",
    "fig.set_size_inches(18.5, 10.5)\n",
    "fig.savefig('null_worload_devel.pdf', dpi=100)\n",
    "'''"
   ]
  },
  {
   "cell_type": "code",
   "execution_count": 49,
   "metadata": {},
   "outputs": [
    {
     "data": {
      "text/html": [
       "<style>.container { width:100% !important; }</style>"
      ],
      "text/plain": [
       "<IPython.core.display.HTML object>"
      ]
     },
     "metadata": {},
     "output_type": "display_data"
    }
   ],
   "source": [
    "# Global configurations\n",
    "# ---------------------\n",
    "\n",
    "# Expand the notebook to the width of the browser\n",
    "display(HTML(\"<style>.container { width:100% !important; }</style>\"))\n",
    "\n",
    "# Matplotlib style\n",
    "plt.style.use('seaborn-colorblind')\n",
    "\n",
    "# Use LaTeX and its body font for the diagrams' text.\n",
    "mpl.rcParams['text.usetex'] = True\n",
    "mpl.rcParams['text.latex.unicode'] = True\n",
    "mpl.rcParams['font.family'] = 'serif'\n",
    "mpl.rcParams['font.serif']  = ['Nimbus Roman Becker No9L']\n",
    "\n",
    "# Font sizes\n",
    "SIZE = 24\n",
    "plt.rc('font', size=SIZE)  # controls default text sizes\n",
    "plt.rc('axes', titlesize=SIZE)  # fontsize of the axes title\n",
    "plt.rc('axes', labelsize=SIZE)  # fontsize of the x any y labels\n",
    "plt.rc('xtick', labelsize=SIZE)  # fontsize of the tick labels\n",
    "plt.rc('ytick', labelsize=SIZE)  # fontsize of the tick labels\n",
    "plt.rc('legend', fontsize=SIZE-2)  # legend fontsize\n",
    "plt.rc('figure', titlesize=SIZE)  # # size of the figure title\n",
    "\n",
    "# Use thinner lines for axes to avoid distractions.\n",
    "mpl.rcParams['axes.linewidth']    = 1\n",
    "mpl.rcParams['xtick.major.width'] = 1\n",
    "mpl.rcParams['xtick.minor.width'] = 1\n",
    "mpl.rcParams['ytick.major.width'] = 1\n",
    "mpl.rcParams['ytick.minor.width'] = 1\n",
    "mpl.rcParams['lines.linewidth'] = 2\n",
    "\n",
    "\n",
    "# Do not use a box for the legend to avoid distractions.\n",
    "mpl.rcParams['legend.frameon'] = False\n",
    "\n",
    "# Restore part of matplotlib 1.5 behavior\n",
    "mpl.rcParams['patch.force_edgecolor'] = True\n",
    "mpl.rcParams['errorbar.capsize'] = 3\n",
    "\n",
    "# Helpers\n",
    "# -------\n",
    "\n",
    "# Use coordinated colors. These are the \"Tableau 20\" colors as \n",
    "# RGB. Each pair is strong/light. For a theory of color    \n",
    "tableau20 = [(31 , 119, 180), (174, 199, 232), # blue        [ 0,1 ]\n",
    "             (255, 127, 14 ), (255, 187, 120), # orange      [ 2,3 ]\n",
    "             (44 , 160, 44 ), (152, 223, 138), # green       [ 4,5 ]\n",
    "             (214, 39 , 40 ), (255, 152, 150), # red         [ 6,7 ]\n",
    "             (148, 103, 189), (197, 176, 213), # purple      [ 8,9 ]\n",
    "             (140, 86 , 75 ), (196, 156, 148), # brown       [10,11]\n",
    "             (227, 119, 194), (247, 182, 210), # pink        [12,13]\n",
    "             (188, 189, 34 ), (219, 219, 141), # yellow      [14,15]\n",
    "             (23 , 190, 207), (158, 218, 229), # cyan        [16,17]\n",
    "             (65 , 68 , 81 ), (96 , 99 , 106), # gray        [18,19]\n",
    "             (127, 127, 127), (143, 135, 130), # gray        [20,21] \n",
    "             (165, 172, 175), (199, 199, 199), # gray        [22,23]\n",
    "             (207, 207, 207)]                   # gray        [24]\n",
    "  \n",
    "# Scale the RGB values to the [0, 1] range, which is the format \n",
    "# matplotlib accepts.    \n",
    "for i in range(len(tableau20)):  \n",
    "    r, g, b = tableau20[i]  \n",
    "    tableau20[i] = (r / 255., g / 255., b / 255.)    \n",
    "\n",
    "# Return a single plot without right and top axes\n",
    "def fig_setup():\n",
    "    fig = plt.figure(figsize=(16,8))\n",
    "    ax = fig.add_subplot(111)    \n",
    "    ax.get_xaxis().tick_bottom()  \n",
    "    ax.get_yaxis().tick_left()\n",
    "    \n",
    "    return fig, ax"
   ]
  },
  {
   "cell_type": "code",
   "execution_count": 57,
   "metadata": {},
   "outputs": [
    {
     "ename": "IndexError",
     "evalue": "list index out of range",
     "output_type": "error",
     "traceback": [
      "\u001b[0;31m---------------------------------------------------------------------------\u001b[0m",
      "\u001b[0;31mIndexError\u001b[0m                                Traceback (most recent call last)",
      "\u001b[0;32m<ipython-input-57-e1760e7299ec>\u001b[0m in \u001b[0;36m<module>\u001b[0;34m()\u001b[0m\n\u001b[1;32m     30\u001b[0m \u001b[0mlabels\u001b[0m \u001b[0;34m=\u001b[0m \u001b[0ml1\u001b[0m\u001b[0;34m\u001b[0m\u001b[0m\n\u001b[1;32m     31\u001b[0m \u001b[0;32mfor\u001b[0m \u001b[0mi\u001b[0m \u001b[0;32min\u001b[0m \u001b[0mrange\u001b[0m\u001b[0;34m(\u001b[0m\u001b[0;36m7\u001b[0m\u001b[0;34m)\u001b[0m\u001b[0;34m:\u001b[0m\u001b[0;34m\u001b[0m\u001b[0m\n\u001b[0;32m---> 32\u001b[0;31m     \u001b[0mlabels\u001b[0m \u001b[0;34m+=\u001b[0m \u001b[0;34m[\u001b[0m\u001b[0ml2\u001b[0m\u001b[0;34m[\u001b[0m\u001b[0mi\u001b[0m\u001b[0;34m]\u001b[0m \u001b[0;34m+\u001b[0m \u001b[0;34m' execution time (right)'\u001b[0m\u001b[0;34m]\u001b[0m\u001b[0;34m\u001b[0m\u001b[0m\n\u001b[0m\u001b[1;32m     33\u001b[0m \u001b[0mhandles\u001b[0m \u001b[0;34m=\u001b[0m \u001b[0mh1\u001b[0m \u001b[0;34m+\u001b[0m \u001b[0mh2\u001b[0m\u001b[0;34m\u001b[0m\u001b[0m\n\u001b[1;32m     34\u001b[0m \u001b[0mplt\u001b[0m\u001b[0;34m.\u001b[0m\u001b[0mlegend\u001b[0m\u001b[0;34m(\u001b[0m\u001b[0mhandles\u001b[0m\u001b[0;34m,\u001b[0m\u001b[0mlabels\u001b[0m\u001b[0;34m,\u001b[0m\u001b[0mfontsize\u001b[0m\u001b[0;34m=\u001b[0m\u001b[0mSIZE\u001b[0m\u001b[0;34m,\u001b[0m \u001b[0mbbox_to_anchor\u001b[0m \u001b[0;34m=\u001b[0m \u001b[0;34m(\u001b[0m\u001b[0;36m1.8\u001b[0m\u001b[0;34m,\u001b[0m\u001b[0;36m1\u001b[0m\u001b[0;34m)\u001b[0m\u001b[0;34m)\u001b[0m\u001b[0;34m\u001b[0m\u001b[0m\n",
      "\u001b[0;31mIndexError\u001b[0m: list index out of range"
     ]
    },
    {
     "data": {
      "image/png": "[encoded data removed]",
      "text/plain": [
       "<matplotlib.figure.Figure at 0x117926d50>"
      ]
     },
     "metadata": {},
     "output_type": "display_data"
    }
   ],
   "source": [
    "fig, ax = fig_setup()\n",
    "\n",
    "width=0.1\n",
    "ax = df.plot(kind='bar', \n",
    "             ax=ax,\n",
    "             #y=df.columns.drop('Execution duration').tolist(),\n",
    "             y=df.columns.drop('RP overhead'),\n",
    "             fontsize=SIZE,\n",
    "             width=width,\n",
    "             position=1,\n",
    "             color = [tableau20[(16)], tableau20[(20)]],\n",
    "             title='Weak Scaling TIES instances, fixed replicas',\n",
    "             legend=False)\n",
    "\n",
    "\n",
    "ax2 = df['Execution duration'].plot(ax=ax, stacked=True, secondary_y=True, color = [tableau20[(1)]],              \n",
    "                        width=width, \n",
    "                        legend=False, \n",
    "                        position=0, kind = 'bar')\n",
    "ax2.set_ylim(0,15000)\n",
    "\n",
    "ax.set_ylim(0,10)\n",
    "ax.set_xlabel('No. of replicas', fontsize=SIZE)\n",
    "ax.set_ylabel('Time (seconds)', fontsize=SIZE)\n",
    "ax2.set_ylabel('Time (seconds)', fontsize=SIZE)\n",
    "ax.set_title(ax.get_title(), fontsize=SIZE)\n",
    "\n",
    "h1, l1 = ax.get_legend_handles_labels()\n",
    "h2, l2 = ax2.get_legend_handles_labels()\n",
    "labels = l1 \n",
    "for i in range(7):\n",
    "    labels += [l2[i] + ' execution time (right)']\n",
    "handles = h1 + h2\n",
    "plt.legend(handles,labels,fontsize=SIZE, bbox_to_anchor = (1.8,1))\n",
    "plt.show()\n",
    "fig.savefig('Weak Scaling TIES instances, fixed replicas.pdf', dpi=100, bbox_inches='tight')"
   ]
  },
  {
   "cell_type": "code",
   "execution_count": null,
   "metadata": {},
   "outputs": [],
   "source": []
  }
 ],
 "metadata": {
  "kernelspec": {
   "display_name": "Python 2",
   "language": "python",
   "name": "python2"
  },
  "language_info": {
   "codemirror_mode": {
    "name": "ipython",
    "version": 2
   },
   "file_extension": ".py",
   "mimetype": "text/x-python",
   "name": "python",
   "nbconvert_exporter": "python",
   "pygments_lexer": "ipython2",
   "version": "2.7.12"
  }
 },
 "nbformat": 4,
 "nbformat_minor": 2
}
